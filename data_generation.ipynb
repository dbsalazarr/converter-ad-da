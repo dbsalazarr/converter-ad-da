{
 "cells": [
  {
   "cell_type": "code",
   "execution_count": 2,
   "id": "caa435dc-a67d-4b47-94e7-d1ec78c0e7a8",
   "metadata": {},
   "outputs": [],
   "source": [
    "import numpy as np"
   ]
  },
  {
   "cell_type": "code",
   "execution_count": 11,
   "id": "263236ed-318f-4df5-ac5e-0daaa9f1f54b",
   "metadata": {},
   "outputs": [
    {
     "name": "stdout",
     "output_type": "stream",
     "text": [
      "1000000\n"
     ]
    }
   ],
   "source": [
    "domain = np.arange(0, 20, 10**-6)\n",
    "# Para generar un arreglo con una escala de 10^-9 el procesamiento del PC se afectado y esto solo fue para determinar\n",
    "# el valor de tal arreglo, se debe tener cuidado con la frecuencia de muestreo con la que se quiere trabajar\n",
    "\n",
    "# En \n",
    "print(len(domain))"
   ]
  },
  {
   "cell_type": "code",
   "execution_count": 5,
   "id": "6bb534a9-c0f7-45d1-95eb-da60af0dafcc",
   "metadata": {},
   "outputs": [
    {
     "name": "stdout",
     "output_type": "stream",
     "text": [
      "1.0\n"
     ]
    }
   ],
   "source": []
  },
  {
   "cell_type": "code",
   "execution_count": null,
   "id": "cde65f82-4a7f-4e79-a6df-2bcee760ad99",
   "metadata": {},
   "outputs": [],
   "source": []
  }
 ],
 "metadata": {
  "kernelspec": {
   "display_name": "Python 3 (ipykernel)",
   "language": "python",
   "name": "python3"
  },
  "language_info": {
   "codemirror_mode": {
    "name": "ipython",
    "version": 3
   },
   "file_extension": ".py",
   "mimetype": "text/x-python",
   "name": "python",
   "nbconvert_exporter": "python",
   "pygments_lexer": "ipython3",
   "version": "3.11.4"
  }
 },
 "nbformat": 4,
 "nbformat_minor": 5
}
