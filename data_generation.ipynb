{
 "cells": [
  {
   "cell_type": "code",
   "execution_count": 2,
   "id": "caa435dc-a67d-4b47-94e7-d1ec78c0e7a8",
   "metadata": {},
   "outputs": [],
   "source": [
    "import numpy as np"
   ]
  },
  {
   "cell_type": "code",
   "execution_count": 11,
   "id": "263236ed-318f-4df5-ac5e-0daaa9f1f54b",
   "metadata": {},
   "outputs": [
    {
     "name": "stdout",
     "output_type": "stream",
     "text": [
      "1000000\n"
     ]
    }
   ],
   "source": [
    "domain = np.arange(0, 20, 10**-6)\n",
    "# Para generar un arreglo con una escala de 10^-9 el procesamiento del PC se afectado y esto solo fue para determinar\n",
    "# el valor de tal arreglo, se debe tener cuidado con la frecuencia de muestreo con la que se quiere trabajar\n",
    "\n",
    "# En \n",
    "print(len(domain))"
   ]
  },
  {
   "cell_type": "code",
   "execution_count": 5,
   "id": "6bb534a9-c0f7-45d1-95eb-da60af0dafcc",
   "metadata": {},
   "outputs": [
    {
     "name": "stdout",
     "output_type": "stream",
     "text": [
      "1.0\n"
     ]
    }
   ],
   "source": [
    "# Datos de ejemplo\n",
    "x = [0.001, 0.002, 0.003, 0.004, 0.005]\n",
    "y = [5, 10, 15, 20, 25]\n",
    "\n",
    "plt.plot(x, y)\n",
    "plt.xlabel(\"Eje X (10^-3)\")\n",
    "plt.ylabel(\"Eje Y\")\n",
    "plt.title(\"Gráfico con Eje X en Escala de Milésimas\")\n",
    "plt.xticks(x, [str(val) for val in x])  # Cambiar las etiquetas del eje x\n",
    "\n",
    "plt.show()"
   ]
  },
  {
   "cell_type": "code",
   "execution_count": null,
   "id": "cde65f82-4a7f-4e79-a6df-2bcee760ad99",
   "metadata": {},
   "outputs": [],
   "source": [
    "# Datos de ejemplo\n",
    "x = [1, 2, 3, 4, 5]  # Valores en la escala que deseas mostrar (1, 2, ...)\n",
    "x_scaled = [val * 0.001 for val in x]  # Valores ajustados para la escala en milésimas\n",
    "y = [5, 10, 15, 20, 25]\n",
    "\n",
    "plt.plot(x_scaled, y)\n",
    "plt.xlabel(\"Eje X (escala en milímetros)\")\n",
    "plt.ylabel(\"Eje Y\")\n",
    "plt.title(\"Gráfico con Eje X en Escala de Milímetros\")\n",
    "plt.xticks(x_scaled, x)  # Cambiar las etiquetas del eje x a los valores originales\n",
    "\n",
    "plt.show()\n"
   ]
  },
  {
   "cell_type": "code",
   "execution_count": null,
   "id": "2e5b49b2-5c44-4ea9-86f4-2be89a26f62c",
   "metadata": {},
   "outputs": [],
   "source": [
    "# Crear una matriz\n",
    "matriz = np.array([[1, 2, 3],\n",
    "                   [4, 5, 6],\n",
    "                   [7, 8, 9]])\n",
    "matriz1 = np.linspace(0, 10, 5)\n",
    "matriz_sin = 10*np.sin(matriz1*2.1)\n",
    "# Escalar por el cual multiplicar la matriz\n",
    "escalar = 2.3123\n",
    "\n",
    "# Multiplicar la matriz por el escalar\n",
    "matriz_resultante = matriz * escalar\n",
    "matriz2 = matriz1*escalar\n",
    "print(matriz_sin/10)\n",
    "print(matriz_sin)\n",
    "print(escalar*matriz_sin)\n",
    "\n",
    "\n",
    "print(matriz2)\n",
    "print(matriz_resultante)"
   ]
  },
  {
   "cell_type": "code",
   "execution_count": null,
   "id": "3fd8935e-0011-428e-9271-662b0256897c",
   "metadata": {},
   "outputs": [],
   "source": [
    "import matplotlib.pyplot as plt\n",
    "\n",
    "# Crea los datos\n",
    "x = [1, 2, 3, 4, 5]\n",
    "y = [6, 7, 8, 9, 10]\n",
    "\n",
    "# Crea la gráfica\n",
    "plt.stem(x, y)\n",
    "\n",
    "# Muestra la gráfica\n",
    "plt.show()\n"
   ]
  },
  {
   "cell_type": "code",
   "execution_count": null,
   "id": "fb52a19b-0fee-4df1-9c44-1619945b0d55",
   "metadata": {},
   "outputs": [],
   "source": [
    "import numpy as np\n",
    "\n",
    "A = np.array([[1, 2, 3], [4, 5, 6]])\n",
    "B = np.array([[7, 8, 9], [10, 11, 12]])\n",
    "\n",
    "C = np.subtract(A, B)\n",
    "\n",
    "print(C)\n"
   ]
  },
  {
   "cell_type": "code",
   "execution_count": null,
   "id": "7b5c012b-5513-4b8c-9501-6ac105e6649a",
   "metadata": {},
   "outputs": [],
   "source": [
    "import matplotlib.pyplot as plt\n",
    "\n",
    "# Create two arrays of data\n",
    "x1 = [1, 2, 3, 4, 5]\n",
    "y1 = [6, 7, 8, 9, 10]\n",
    "x2 = [1, 2, 3, 4, 5]\n",
    "y2 = [11, 12, 13, 14, 15]\n",
    "\n",
    "# Create a figure and an axes\n",
    "fig, ax = plt.subplots()\n",
    "\n",
    "# Plot the two lines\n",
    "ax.plot(x1, y1, label=\"Line 1\")\n",
    "ax.plot(x2, y2, label=\"Line 2\")\n",
    "\n",
    "# Set the title and labels\n",
    "ax.set_title(\"Superimposed Plots\")\n",
    "ax.set_xlabel(\"x\")\n",
    "ax.set_ylabel(\"y\")\n",
    "\n",
    "# Show the plot\n",
    "plt.show()"
   ]
  },
  {
   "cell_type": "code",
   "execution_count": null,
   "id": "b5375ce3-15de-4795-a628-402b4e8aa675",
   "metadata": {},
   "outputs": [],
   "source": [
    "import matplotlib.pyplot as plt\n",
    "\n",
    "# Create a figure and an axes\n",
    "fig, ax = plt.subplots()\n",
    "\n",
    "# Plot some data\n",
    "ax.plot([1, 2, 3, 4, 5], [6, 7, 8, 9, 10], label=\"Line 1\")\n",
    "ax.plot([1, 2, 3, 4, 5], [11, 12, 13, 14, 15], label=\"Line 2\")\n",
    "\n",
    "# Add a legend\n",
    "ax.legend(loc=\"upper left\")\n",
    "\n",
    "# Show the plot\n",
    "plt.show()"
   ]
  },
  {
   "cell_type": "code",
   "execution_count": null,
   "id": "4da75b7a-a559-4b55-a86d-090f7d2d8750",
   "metadata": {},
   "outputs": [],
   "source": [
    "import matplotlib.pyplot as plt\n",
    "\n",
    "# Create a figure and an axes\n",
    "fig, ax = plt.subplots()\n",
    "\n",
    "# Plot some data\n",
    "ax.plot([1, 2, 3, 4, 5], [6, 7, 8, 9, 10], label=\"Line 1\")\n",
    "ax.plot([1, 2, 3, 4, 5], [11, 12, 13, 14, 15], label=\"Line 2\")\n",
    "\n",
    "# Add a legend\n",
    "ax.legend(loc=\"upper left\", prop={'size': 18}, title=\"My Legend\", handletextpad=10)\n",
    "\n",
    "# Show the plot\n",
    "plt.show()"
   ]
  },
  {
   "cell_type": "code",
   "execution_count": null,
   "id": "2d1ef676-9750-4256-a0df-9854c817d38a",
   "metadata": {},
   "outputs": [],
   "source": [
    "import matplotlib.pyplot as plt\n",
    "\n",
    "# Create a figure and an axes\n",
    "fig, ax = plt.subplots()\n",
    "\n",
    "# Plot some data\n",
    "ax.plot([1, 2, 3, 4, 5], [6, 7, 8, 9, 10])\n",
    "\n",
    "# Set the ylim\n",
    "ax.set_ylim(0, 150)\n",
    "\n",
    "# Set the yticks\n",
    "ax.set_yticks(np.arange(0, 175, 25))\n",
    "\n",
    "# Set the yticklabels\n",
    "ax.set_yticklabels([\"0\", \"25\", \"50\", \"75\", \"100\", \"125\", \"150\"])\n",
    "\n",
    "# Show the plot\n",
    "plt.show()"
   ]
  },
  {
   "cell_type": "code",
   "execution_count": null,
   "id": "d841c3de-f6cf-4a51-82dc-7aec002ede75",
   "metadata": {},
   "outputs": [],
   "source": []
  },
  {
   "cell_type": "code",
   "execution_count": null,
   "id": "ad393e7d-8350-4fc2-b198-582a74ba9163",
   "metadata": {},
   "outputs": [],
   "source": []
  },
  {
   "cell_type": "code",
   "execution_count": null,
   "id": "1f62420d-6c74-4809-8120-ec0b58d47284",
   "metadata": {},
   "outputs": [],
   "source": []
  }
 ],
 "metadata": {
  "kernelspec": {
   "display_name": "Python 3 (ipykernel)",
   "language": "python",
   "name": "python3"
  },
  "language_info": {
   "codemirror_mode": {
    "name": "ipython",
    "version": 3
   },
   "file_extension": ".py",
   "mimetype": "text/x-python",
   "name": "python",
   "nbconvert_exporter": "python",
   "pygments_lexer": "ipython3",
   "version": "3.11.2"
  }
 },
 "nbformat": 4,
 "nbformat_minor": 5
}
